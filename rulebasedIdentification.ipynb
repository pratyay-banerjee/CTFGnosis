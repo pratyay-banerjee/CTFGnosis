{
 "cells": [
  {
   "cell_type": "code",
   "execution_count": 2,
   "metadata": {},
   "outputs": [],
   "source": [
    "import json\n",
    "import os\n",
    "from os import listdir\n",
    "import pandas\n",
    "from tqdm import tqdm_notebook as tqdm"
   ]
  },
  {
   "cell_type": "code",
   "execution_count": 3,
   "metadata": {},
   "outputs": [],
   "source": [
    "import spacy\n",
    "nlp = spacy.load('en_core_web_md')\n",
    "#doc = nlp(\"Hello how are you !\")"
   ]
  },
  {
   "cell_type": "code",
   "execution_count": 4,
   "metadata": {},
   "outputs": [
    {
     "name": "stdout",
     "output_type": "stream",
     "text": [
      "['10.csv', '6.csv', '11.csv', '14.csv', '12.csv', '9.csv', '2.csv', '13.csv', '8.csv', '1.csv', '4.csv', '3.csv', '5.csv', '7.csv']\n"
     ]
    }
   ],
   "source": [
    "path = \"Ann\"\n",
    "files = [ f for f in listdir(path) if f.split('.')[1] == 'csv']\n",
    "print (files)"
   ]
  },
  {
   "cell_type": "code",
   "execution_count": 12,
   "metadata": {},
   "outputs": [],
   "source": [
    "allData = []\n",
    "for eachFile in files:\n",
    "    base = os.path.basename(eachFile).split('.')[0]\n",
    "    #print (base)\n",
    "    ff = os.path.join(path,eachFile)\n",
    "    data = pandas.read_csv(ff,header = None,encoding=\"utf-8\")\n",
    "#     print (data)\n",
    "#     input()\n",
    "    data[[3]] = data[[3]].fillna('-')\n",
    "    data[[4]] = data[[4]].fillna('-')\n",
    "    data = data.values.tolist()\n",
    "    allData.append(data)"
   ]
  },
  {
   "cell_type": "code",
   "execution_count": 13,
   "metadata": {},
   "outputs": [
    {
     "name": "stdout",
     "output_type": "stream",
     "text": [
      "It PRP\n",
      "can MD\n",
      "be VB\n",
      "seen VBN\n",
      "14\n"
     ]
    }
   ],
   "source": [
    "doc = nlp(\"It can be seen\")\n",
    "for g in doc:\n",
    "    print (g,g.tag_)\n",
    "print (len(allData))"
   ]
  },
  {
   "cell_type": "code",
   "execution_count": 14,
   "metadata": {},
   "outputs": [],
   "source": [
    "def nodeAccuracy(output):\n",
    "    ''' Calculates the accuracy of the graph nodes '''\n",
    "    \n",
    "    total = 0\n",
    "    correct = 0\n",
    "    for each in output:\n",
    "        gold,pred = each[0],each[1]\n",
    "        #print (gold,pred,each)\n",
    "        if gold != '-':\n",
    "            total += 1\n",
    "            if pred != '-/-':\n",
    "                if (pred == gold):\n",
    "                    correct += 1\n",
    "                else:\n",
    "                    pred = pred.split('/')\n",
    "                    for i in pred:\n",
    "                        if i in gold and len(gold)==1:\n",
    "                            correct += 1\n",
    "    accuracy = round(correct / total,2)\n",
    "    print (total,correct,accuracy)\n"
   ]
  },
  {
   "cell_type": "code",
   "execution_count": null,
   "metadata": {},
   "outputs": [
    {
     "data": {
      "application/vnd.jupyter.widget-view+json": {
       "model_id": "49db7d84fbd24f9ba546fbd872a5c739",
       "version_major": 2,
       "version_minor": 0
      },
      "text/plain": [
       "A Jupyter Widget"
      ]
     },
     "metadata": {},
     "output_type": "display_data"
    },
    {
     "name": "stdout",
     "output_type": "stream",
     "text": [
      "10 1 Rating: 0 - -\n"
     ]
    },
    {
     "name": "stdin",
     "output_type": "stream",
     "text": [
      " \n"
     ]
    },
    {
     "name": "stdout",
     "output_type": "stream",
     "text": [
      "10 2 (bookgin, kaibro, qazwsxedcrfvtg14, hortune, written by bookgin) - -\n"
     ]
    },
    {
     "name": "stdin",
     "output_type": "stream",
     "text": [
      " \n"
     ]
    },
    {
     "name": "stdout",
     "output_type": "stream",
     "text": [
      "10 3 We should get shell in order to retrieve the flag in Oh My raddit 2. I -\n"
     ]
    },
    {
     "name": "stdin",
     "output_type": "stream",
     "text": [
      " \n"
     ]
    },
    {
     "name": "stdout",
     "output_type": "stream",
     "text": [
      "10 4 Since we have the DES key now, we can first decrypt the ciphertext of the download command: A,I -\n"
     ]
    },
    {
     "name": "stdin",
     "output_type": "stream",
     "text": [
      " \n"
     ]
    },
    {
     "name": "stdout",
     "output_type": "stream",
     "text": [
      "10 5 Let's try specifying the path now A,I 4.0\n"
     ]
    },
    {
     "name": "stdin",
     "output_type": "stream",
     "text": [
      " \n"
     ]
    },
    {
     "name": "stdout",
     "output_type": "stream",
     "text": [
      "10 6 Does it work? Yes, it works! - -\n"
     ]
    },
    {
     "name": "stdin",
     "output_type": "stream",
     "text": [
      " \n"
     ]
    },
    {
     "name": "stdout",
     "output_type": "stream",
     "text": [
      "10 7 Read the following files: A,I 5.0\n"
     ]
    },
    {
     "name": "stdin",
     "output_type": "stream",
     "text": [
      " \n"
     ]
    },
    {
     "name": "stdout",
     "output_type": "stream",
     "text": [
      "10 8 Here is the source code of app.py: - -\n"
     ]
    },
    {
     "name": "stdin",
     "output_type": "stream",
     "text": [
      " \n"
     ]
    },
    {
     "name": "stdout",
     "output_type": "stream",
     "text": [
      "10 9 First I found this issue, and it's reported by Orange Tsai, who is the author of the challenge A -\n"
     ]
    },
    {
     "name": "stdin",
     "output_type": "stream",
     "text": [
      " \n"
     ]
    },
    {
     "name": "stdout",
     "output_type": "stream",
     "text": [
      "10 10 This issue is fixed in webpy 0.39, but the server side still use 0.38! Thus it's vulnerable to SQLite injection through limit parameter. I 9.0\n"
     ]
    },
    {
     "name": "stdin",
     "output_type": "stream",
     "text": [
      " \n"
     ]
    },
    {
     "name": "stdout",
     "output_type": "stream",
     "text": [
      "10 11 @kaibro found another issue - -\n"
     ]
    },
    {
     "name": "stdin",
     "output_type": "stream",
     "text": [
      " \n"
     ]
    },
    {
     "name": "stdout",
     "output_type": "stream",
     "text": [
      "10 12 They try to fix eval code execution by passing a empty builtin to it. I 9.0\n"
     ]
    },
    {
     "name": "stdin",
     "output_type": "stream",
     "text": [
      " \n"
     ]
    },
    {
     "name": "stdout",
     "output_type": "stream",
     "text": [
      "10 13 When eval takes the second parameter with builtin in it, the current builtin will be replaced I 9.0\n"
     ]
    },
    {
     "name": "stdin",
     "output_type": "stream",
     "text": [
      " \n"
     ]
    },
    {
     "name": "stdout",
     "output_type": "stream",
     "text": [
      "10 14 In the source code the builtins is set to an empty object I 9.0\n"
     ]
    },
    {
     "name": "stdin",
     "output_type": "stream",
     "text": [
      " \n"
     ]
    },
    {
     "name": "stdout",
     "output_type": "stream",
     "text": [
      "10 15 In other words, passing builtin is similarly to replace the current namespace. I 9.0\n"
     ]
    },
    {
     "name": "stdin",
     "output_type": "stream",
     "text": [
      " \n"
     ]
    },
    {
     "name": "stdout",
     "output_type": "stream",
     "text": [
      "10 16 However, replacing the namespace doesn't prevent us to retrieve other exploitable classes I 9.0\n"
     ]
    },
    {
     "name": "stdin",
     "output_type": "stream",
     "text": [
      " \n"
     ]
    },
    {
     "name": "stdout",
     "output_type": "stream",
     "text": [
      "10 17 We just cannot directly use eval, __import__ .... I 9.0\n"
     ]
    },
    {
     "name": "stdin",
     "output_type": "stream",
     "text": [
      " \n"
     ]
    },
    {
     "name": "stdout",
     "output_type": "stream",
     "text": [
      "10 18 First, list all the classes through A -\n"
     ]
    },
    {
     "name": "stdin",
     "output_type": "stream",
     "text": [
      " \n"
     ]
    },
    {
     "name": "stdout",
     "output_type": "stream",
     "text": [
      "10 19 Take a closer look - -\n"
     ]
    },
    {
     "name": "stdin",
     "output_type": "stream",
     "text": [
      " \n"
     ]
    },
    {
     "name": "stdout",
     "output_type": "stream",
     "text": [
      "10 20 There is <class 'subprocess.Popen'> class, so it's trivial to RCE now! A,I 10.0\n"
     ]
    },
    {
     "name": "stdin",
     "output_type": "stream",
     "text": [
      " \n"
     ]
    },
    {
     "name": "stdout",
     "output_type": "stream",
     "text": [
      "10 21 It's worth to mention @qazwsxedcrfvtg14 's more creative payload - -\n"
     ]
    },
    {
     "name": "stdin",
     "output_type": "stream",
     "text": [
      " \n"
     ]
    },
    {
     "name": "stdout",
     "output_type": "stream",
     "text": [
      "10 22 I can't believe that an unbounded method can access __globals__ in Python 2.7 ! I 20.0\n"
     ]
    },
    {
     "name": "stdin",
     "output_type": "stream",
     "text": [
      " \n"
     ]
    },
    {
     "name": "stdout",
     "output_type": "stream",
     "text": [
      "10 23 The flag is hitcon{Fr0m_SQL_Injecti0n_t0_Shell_1s_C00L!!!}. - -\n"
     ]
    },
    {
     "name": "stdin",
     "output_type": "stream",
     "text": [
      " \n"
     ]
    },
    {
     "data": {
      "application/vnd.jupyter.widget-view+json": {
       "model_id": "a5136d01d11e4308824ac716875772ef",
       "version_major": 2,
       "version_minor": 0
      },
      "text/plain": [
       "A Jupyter Widget"
      ]
     },
     "metadata": {},
     "output_type": "display_data"
    },
    {
     "name": "stdout",
     "output_type": "stream",
     "text": [
      "6 1 We are given a nodejs API which we can read/write the notes A/I -\n"
     ]
    },
    {
     "name": "stdin",
     "output_type": "stream",
     "text": [
      " \n"
     ]
    },
    {
     "name": "stdout",
     "output_type": "stream",
     "text": [
      "6 2 Follow the instruction on the landing page and visit /help, and we can see a hidden file fetcher API: A -\n"
     ]
    },
    {
     "name": "stdin",
     "output_type": "stream",
     "text": [
      " \n"
     ]
    },
    {
     "name": "stdout",
     "output_type": "stream",
     "text": [
      "6 3 Okay, let's try to guess the filename of the server A -\n"
     ]
    },
    {
     "name": "stdin",
     "output_type": "stream",
     "text": [
      " \n"
     ]
    },
    {
     "name": "stdout",
     "output_type": "stream",
     "text": [
      "6 4 Visiting /fetchJSAPI/fetch/server.js, it turns out the server is named server.js A/I 3,4\n"
     ]
    },
    {
     "name": "stdin",
     "output_type": "stream",
     "text": [
      " \n"
     ]
    },
    {
     "name": "stdout",
     "output_type": "stream",
     "text": [
      "6 5 Note that the param must end in .js I -\n"
     ]
    },
    {
     "name": "stdin",
     "output_type": "stream",
     "text": [
      " \n"
     ]
    },
    {
     "name": "stdout",
     "output_type": "stream",
     "text": [
      "6 6 Otherwise the server will not return the file content. I -\n"
     ]
    },
    {
     "name": "stdin",
     "output_type": "stream",
     "text": [
      " \n"
     ]
    },
    {
     "name": "stdout",
     "output_type": "stream",
     "text": [
      "6 7 The main script includes other routers in ./api/routes/routes I -\n"
     ]
    },
    {
     "name": "stdin",
     "output_type": "stream",
     "text": [
      " \n"
     ]
    },
    {
     "name": "stdout",
     "output_type": "stream",
     "text": [
      "6 8 However, most of the note API is not interesting because the read-only in config.json is set to true I -\n"
     ]
    },
    {
     "name": "stdin",
     "output_type": "stream",
     "text": [
      " \n"
     ]
    },
    {
     "name": "stdout",
     "output_type": "stream",
     "text": [
      "6 9 We cannot create/delete a new note A 8\n"
     ]
    },
    {
     "name": "stdin",
     "output_type": "stream",
     "text": [
      " \n"
     ]
    },
    {
     "name": "stdout",
     "output_type": "stream",
     "text": [
      "6 10 Here is the note router source code: - -\n"
     ]
    },
    {
     "name": "stdin",
     "output_type": "stream",
     "text": [
      " \n"
     ]
    },
    {
     "name": "stdout",
     "output_type": "stream",
     "text": [
      "6 11 In other APIs, the most suspicious one is status: I -\n"
     ]
    },
    {
     "name": "stdin",
     "output_type": "stream",
     "text": [
      " \n"
     ]
    },
    {
     "name": "stdout",
     "output_type": "stream",
     "text": [
      "6 12 It will execute those innocuous shell commands when visiting this API, but how to manipulate the hard-coded commands? The first thought comes to my mind is javascript prototype polution A/I 12\n"
     ]
    },
    {
     "name": "stdin",
     "output_type": "stream",
     "text": [
      " \n"
     ]
    },
    {
     "name": "stdout",
     "output_type": "stream",
     "text": [
      "6 13 If we can modify the prototype we can inject arbitrary command! A 12\n"
     ]
    },
    {
     "name": "stdin",
     "output_type": "stream",
     "text": [
      " \n"
     ]
    },
    {
     "name": "stdout",
     "output_type": "stream",
     "text": [
      "6 14 The only thing we can control is through the note API I -\n"
     ]
    },
    {
     "name": "stdin",
     "output_type": "stream",
     "text": [
      " \n"
     ]
    },
    {
     "name": "stdout",
     "output_type": "stream",
     "text": [
      "6 15 It use lodash to merge the note with empty one I -\n"
     ]
    },
    {
     "name": "stdin",
     "output_type": "stream",
     "text": [
      " \n"
     ]
    },
    {
     "name": "stdout",
     "output_type": "stream",
     "text": [
      "6 16 Then I search the lodash vulnerability and find this interesting A 15\n"
     ]
    },
    {
     "name": "stdin",
     "output_type": "stream",
     "text": [
      " \n"
     ]
    },
    {
     "name": "stdout",
     "output_type": "stream",
     "text": [
      "6 17 It's just what we needed - Prototype Pollution. I -\n"
     ]
    },
    {
     "name": "stdin",
     "output_type": "stream",
     "text": [
      " \n"
     ]
    },
    {
     "name": "stdout",
     "output_type": "stream",
     "text": [
      "6 18 So the rest is trivial I -\n"
     ]
    },
    {
     "name": "stdin",
     "output_type": "stream",
     "text": [
      " \n"
     ]
    },
    {
     "name": "stdout",
     "output_type": "stream",
     "text": [
      "6 19 Pollute the command object and get RCE of the server A -\n"
     ]
    },
    {
     "name": "stdin",
     "output_type": "stream",
     "text": [
      " \n"
     ]
    },
    {
     "name": "stdout",
     "output_type": "stream",
     "text": [
      "6 20 Although I can use percent-encoding %2f to send /, I can't bypass the file extension check. A/I 20\n"
     ]
    },
    {
     "name": "stdin",
     "output_type": "stream",
     "text": [
      " \n"
     ]
    },
    {
     "name": "stdout",
     "output_type": "stream",
     "text": [
      "6 21 Actually I don't have other failled attempts - -\n"
     ]
    },
    {
     "name": "stdin",
     "output_type": "stream",
     "text": [
      " \n"
     ]
    },
    {
     "name": "stdout",
     "output_type": "stream",
     "text": [
      "6 22 If you cannot come out of Prototype pollution, don't be disappointed - -\n"
     ]
    },
    {
     "name": "stdin",
     "output_type": "stream",
     "text": [
      " \n"
     ]
    },
    {
     "name": "stdout",
     "output_type": "stream",
     "text": [
      "6 23 At least you learn something new :) - -\n"
     ]
    },
    {
     "name": "stdin",
     "output_type": "stream",
     "text": [
      " \n"
     ]
    },
    {
     "name": "stdout",
     "output_type": "stream",
     "text": [
      "6 24 Unsolved, for the compelte writeup please refer to @YShahinzadeh's writeup - -\n"
     ]
    },
    {
     "name": "stdin",
     "output_type": "stream",
     "text": [
      " \n"
     ]
    },
    {
     "name": "stdout",
     "output_type": "stream",
     "text": [
      "6 25 Basically this is a SSRF challenge, using @ to make the google.com part being interperted as HTTP Basic access authentication. I -\n"
     ]
    },
    {
     "name": "stdin",
     "output_type": "stream",
     "text": [
      " \n"
     ]
    },
    {
     "name": "stdout",
     "output_type": "stream",
     "text": [
      "6 26 I get the db.json through visiting http://162.243.23.15:8000/db.json/ A -\n"
     ]
    },
    {
     "name": "stdin",
     "output_type": "stream",
     "text": [
      " \n"
     ]
    },
    {
     "name": "stdout",
     "output_type": "stream",
     "text": [
      "6 27 Just append a slash. A -\n"
     ]
    },
    {
     "name": "stdin",
     "output_type": "stream",
     "text": [
      " \n"
     ]
    },
    {
     "name": "stdout",
     "output_type": "stream",
     "text": [
      "6 28 It's silly I didn't solve this one, because I forget to try the empty string in the path parameter..... A/I 28\n"
     ]
    },
    {
     "name": "stdin",
     "output_type": "stream",
     "text": [
      " \n"
     ]
    },
    {
     "name": "stdout",
     "output_type": "stream",
     "text": [
      "6 29 so I assume it must be /. A -\n"
     ]
    },
    {
     "name": "stdin",
     "output_type": "stream",
     "text": [
      " \n"
     ]
    },
    {
     "name": "stdout",
     "output_type": "stream",
     "text": [
      "6 30 Failed Attempts A -\n"
     ]
    },
    {
     "name": "stdin",
     "output_type": "stream",
     "text": [
      " \n"
     ]
    },
    {
     "name": "stdout",
     "output_type": "stream",
     "text": [
      "6 31 But the http module works well with ../, so I think it's not the vulnerable version. A/I 30,31\n"
     ]
    },
    {
     "name": "stdin",
     "output_type": "stream",
     "text": [
      " \n"
     ]
    },
    {
     "name": "stdout",
     "output_type": "stream",
     "text": [
      "6 32 The echo API even doesn't return anything if we access it directly. A/I 30,32\n"
     ]
    },
    {
     "name": "stdin",
     "output_type": "stream",
     "text": [
      " \n"
     ]
    },
    {
     "name": "stdout",
     "output_type": "stream",
     "text": [
      "6 33 Add the header X-SSLVPN-Request-Id: 9B60:6E97:25ADB08:45E4D17:5AE34BA4 in the requests A 30\n"
     ]
    },
    {
     "name": "stdin",
     "output_type": "stream",
     "text": [
      " \n"
     ]
    },
    {
     "name": "stdout",
     "output_type": "stream",
     "text": [
      "6 34 It's totally useless. I 30,33\n"
     ]
    },
    {
     "name": "stdin",
     "output_type": "stream",
     "text": [
      " \n"
     ]
    },
    {
     "data": {
      "application/vnd.jupyter.widget-view+json": {
       "model_id": "95fcc806ca2a4fb88a8bd3fa9b9f0842",
       "version_major": 2,
       "version_minor": 0
      },
      "text/plain": [
       "A Jupyter Widget"
      ]
     },
     "metadata": {},
     "output_type": "display_data"
    },
    {
     "name": "stdout",
     "output_type": "stream",
     "text": [
      "11 1 [Hack.lu CTF 2018] Baby PHP Write-up (Web153) - -\n"
     ]
    },
    {
     "name": "stdin",
     "output_type": "stream",
     "text": [
      " \n"
     ]
    },
    {
     "name": "stdout",
     "output_type": "stream",
     "text": [
      "11 2 PHP is a popular general-purpose scripting language that is especially suited to web development. - -\n"
     ]
    },
    {
     "name": "stdin",
     "output_type": "stream",
     "text": [
      " \n"
     ]
    },
    {
     "name": "stdout",
     "output_type": "stream",
     "text": [
      "11 3 Can you untangle this mess?! - -\n"
     ]
    },
    {
     "name": "stdin",
     "output_type": "stream",
     "text": [
      " \n"
     ]
    },
    {
     "name": "stdout",
     "output_type": "stream",
     "text": [
      "11 4 When we visit the website, we get the source code the index file. I -\n"
     ]
    },
    {
     "name": "stdin",
     "output_type": "stream",
     "text": [
      " \n"
     ]
    },
    {
     "name": "stdout",
     "output_type": "stream",
     "text": [
      "11 5 In order to bypass the first check we can either use php://input and send the data via POST or I -\n"
     ]
    },
    {
     "name": "stdin",
     "output_type": "stream",
     "text": [
      " \n"
     ]
    },
    {
     "name": "stdout",
     "output_type": "stream",
     "text": [
      "11 6 In order to bypass the second check, we just need to send 1337 as key1 I -\n"
     ]
    },
    {
     "name": "stdin",
     "output_type": "stream",
     "text": [
      " \n"
     ]
    },
    {
     "name": "stdout",
     "output_type": "stream",
     "text": [
      "11 7 Since it will be read as a string, the comparasion $k1 === $cc will fail while intval($k1) returns 1337 and passes the check. I -\n"
     ]
    },
    {
     "name": "stdin",
     "output_type": "stream",
     "text": [
      " \n"
     ]
    },
    {
     "name": "stdout",
     "output_type": "stream",
     "text": [
      "11 8 The length of key2 must be 42 and it must start with digits but must end with ＄ which is a utf-8 encoded dollar sign, thus it does not match the empty string at the end of the line I -\n"
     ]
    },
    {
     "name": "stdin",
     "output_type": "stream",
     "text": [
      " \n"
     ]
    },
    {
     "name": "stdout",
     "output_type": "stream",
     "text": [
      "11 9 Also, that utf-8 encoded dollar sign is consist of 3 bytes I -\n"
     ]
    },
    {
     "name": "stdin",
     "output_type": "stream",
     "text": [
      " \n"
     ]
    },
    {
     "name": "stdout",
     "output_type": "stream",
     "text": [
      "11 10 Therefore, strlen will return its length as 3 instead of 1. I -\n"
     ]
    },
    {
     "name": "stdin",
     "output_type": "stream",
     "text": [
      " \n"
     ]
    },
    {
     "name": "stdout",
     "output_type": "stream",
     "text": [
      "11 11 Here is the value we will use for key2: I -\n"
     ]
    },
    {
     "name": "stdin",
     "output_type": "stream",
     "text": [
      " \n"
     ]
    },
    {
     "name": "stdout",
     "output_type": "stream",
     "text": [
      "11 12 Now, we can set $cc using GET query as well. A -\n"
     ]
    },
    {
     "name": "stdin",
     "output_type": "stream",
     "text": [
      " \n"
     ]
    },
    {
     "name": "stdout",
     "output_type": "stream",
     "text": [
      "11 13 We can set $cc as an array such that both substr($cc, $bb) and sha1($cc) function calls return null I 12.0\n"
     ]
    },
    {
     "name": "stdin",
     "output_type": "stream",
     "text": [
      " \n"
     ]
    },
    {
     "name": "stdout",
     "output_type": "stream",
     "text": [
      "11 14 This will let us to overwrite local variables using GET query. I 12.0\n"
     ]
    },
    {
     "name": "stdin",
     "output_type": "stream",
     "text": [
      " \n"
     ]
    },
    {
     "name": "stdout",
     "output_type": "stream",
     "text": [
      "11 15 Now, if you investigate the next line carefully, you will notice that after the $ symbol it jumps to the end of the line and goes to the left instead of write I 12.0\n"
     ]
    },
    {
     "name": "stdin",
     "output_type": "stream",
     "text": [
      " \n"
     ]
    },
    {
     "name": "stdout",
     "output_type": "stream",
     "text": [
      "11 16 So, the text is written such that is from right to left after excluding the first $ symbol A -\n"
     ]
    },
    {
     "name": "stdin",
     "output_type": "stream",
     "text": [
      " \n"
     ]
    },
    {
     "name": "stdout",
     "output_type": "stream",
     "text": [
      "11 17 The line simply equals to the following: - -\n"
     ]
    },
    {
     "name": "stdin",
     "output_type": "stream",
     "text": [
      " \n"
     ]
    },
    {
     "name": "stdout",
     "output_type": "stream",
     "text": [
      "11 18 Now, in order to pass the next check, the condition $$a === $k1 must be satisfied which is simply equal to “2” === $k1 if we use the values of $a and $b from the previous line. I -\n"
     ]
    },
    {
     "name": "stdin",
     "output_type": "stream",
     "text": [
      " \n"
     ]
    },
    {
     "name": "stdout",
     "output_type": "stream",
     "text": [
      "11 19 We know that we are now allowed to set local variables using GET query and we will use it to set $k1 to 2. A,I 18.0\n"
     ]
    },
    {
     "name": "stdin",
     "output_type": "stream",
     "text": [
      " \n"
     ]
    },
    {
     "name": "stdout",
     "output_type": "stream",
     "text": [
      "11 20 Finally, there is an assert call which takes a string as argument I -\n"
     ]
    },
    {
     "name": "stdin",
     "output_type": "stream",
     "text": [
      " \n"
     ]
    },
    {
     "name": "stdout",
     "output_type": "stream",
     "text": [
      "11 21 We know that assert evaluates the string which is given as argument I 20.0\n"
     ]
    },
    {
     "name": "stdin",
     "output_type": "stream",
     "text": [
      " \n"
     ]
    },
    {
     "name": "stdout",
     "output_type": "stream",
     "text": [
      "11 22 Thus, we can inject some code to make it print us the $flag. A 21.0\n"
     ]
    }
   ],
   "source": [
    "actionRules = ['PRP-MD-VB','PRP-RB-VB','PRP-VB',\n",
    "                'PRP-MD-VBG','PRP-RB-VBG','PRP-VBG',\n",
    "                'PRP-MD-VBN','PRP-RB-VBN','PRP-VBN',\n",
    "                'PRP-MD-VBP','PRP-RB-VBP','PRP-VBP',\n",
    "               'PRP-MD-RB-VB'\n",
    "                #'PRP-MD-VBZ','PRP-RB-VBZ','PRP-VBZ',\n",
    "                'PRP-MD-VBD','PRP-RB-VBD','PRP-VBD']\n",
    "infoRules = ['EX-VBD','EX-VBP','EX-VBZ','VBD-IN','PRP-VBZ',\n",
    "            'NN-VBD-VBN','NNS-VBD-VBN','NN-VBD-VBG','NNS-VBD-VBG',\n",
    "            'NN-VBP-VBN','NNS-VBP-VBN','NN-VBP-VBG','NNS-VBP-VBG',\n",
    "            'NN-VBZ-VBN','NNS-VBZ-VBN',]\n",
    "output = []\n",
    "#print (allData[1])\n",
    "for eachFile in allData:\n",
    "    for docid,lineno,content,enttype,edges in tqdm(eachFile):\n",
    "        print (docid,lineno,content,enttype,edges)\n",
    "        input()\n",
    "        posTag = []\n",
    "        for word in nlp(content):\n",
    "            posTag.append(word.tag_)\n",
    "        posTagSeq = \"-\".join(posTag)\n",
    "        #print (posTag,posTagSeq)\n",
    "        predEnttypeAction = '-'\n",
    "        for eachRule in actionRules:\n",
    "            if eachRule in posTagSeq:\n",
    "                predEnttypeAction = 'A'\n",
    "                #print (\"Rule:\",eachRule)\n",
    "                break\n",
    "        predEnttypeInfo = '-'\n",
    "        for eachRule in infoRules:\n",
    "            if eachRule in posTagSeq:\n",
    "                predEnttypeInfo = 'I'\n",
    "                #print (\"Rule:\",eachRule)\n",
    "                break\n",
    "\n",
    "        if enttype in [\"A,I\",\"I,A\"]:\n",
    "            enttype = \"A/I\"\n",
    "            \n",
    "        output.append([enttype,predEnttypeAction+'/'+predEnttypeInfo])\n",
    "        #print (enttype, predEnttypeAction,predEnttypeInfo)\n",
    "        #input()\n",
    "nodeAccuracy(output)"
   ]
  },
  {
   "cell_type": "code",
   "execution_count": null,
   "metadata": {},
   "outputs": [],
   "source": []
  },
  {
   "cell_type": "code",
   "execution_count": null,
   "metadata": {},
   "outputs": [],
   "source": []
  }
 ],
 "metadata": {
  "kernelspec": {
   "display_name": "Python 3",
   "language": "python",
   "name": "python3"
  },
  "language_info": {
   "codemirror_mode": {
    "name": "ipython",
    "version": 3
   },
   "file_extension": ".py",
   "mimetype": "text/x-python",
   "name": "python",
   "nbconvert_exporter": "python",
   "pygments_lexer": "ipython3",
   "version": "3.6.3"
  }
 },
 "nbformat": 4,
 "nbformat_minor": 2
}
