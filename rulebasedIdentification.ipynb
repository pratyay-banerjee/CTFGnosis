{
 "cells": [
  {
   "cell_type": "code",
   "execution_count": 1,
   "metadata": {},
   "outputs": [],
   "source": [
    "import json\n",
    "import os\n",
    "from os import listdir\n",
    "import pandas\n",
    "from tqdm import tqdm as tqdm\n",
    "import re"
   ]
  },
  {
   "cell_type": "code",
   "execution_count": 2,
   "metadata": {},
   "outputs": [],
   "source": [
    "import spacy\n",
    "nlp = spacy.load('en_core_web_md')\n",
    "#doc = nlp(\"Hello how are you !\")"
   ]
  },
  {
   "cell_type": "code",
   "execution_count": 3,
   "metadata": {},
   "outputs": [
    {
     "name": "stdout",
     "output_type": "stream",
     "text": [
      "['6.csv', '7.csv', '5.csv', '4.csv', '1.csv', '3.csv', '2.csv', '14.csv', '10.csv', '11.csv', '13.csv', '12.csv', '9.csv', '8.csv']\n"
     ]
    }
   ],
   "source": [
    "path = \"Ann\"\n",
    "files = [ f for f in listdir(path) if f.split('.')[1] == 'csv']\n",
    "print (files)"
   ]
  },
  {
   "cell_type": "code",
   "execution_count": 4,
   "metadata": {},
   "outputs": [],
   "source": [
    "allData = []\n",
    "for eachFile in files:\n",
    "    base = os.path.basename(eachFile).split('.')[0]\n",
    "    #print (base)\n",
    "    ff = os.path.join(path,eachFile)\n",
    "    data = pandas.read_csv(ff,header = None,encoding=\"utf-8\")\n",
    "#     print (data)\n",
    "#     input()\n",
    "    data[[3]] = data[[3]].fillna('-')\n",
    "    data[[4]] = data[[4]].fillna('-')\n",
    "    data = data.values.tolist()\n",
    "    allData.append(data)"
   ]
  },
  {
   "cell_type": "code",
   "execution_count": 5,
   "metadata": {},
   "outputs": [
    {
     "name": "stdout",
     "output_type": "stream",
     "text": [
      "It PRP\n",
      "can MD\n",
      "be VB\n",
      "seen VBN\n",
      "14\n"
     ]
    }
   ],
   "source": [
    "doc = nlp(\"It can be seen\")\n",
    "for g in doc:\n",
    "    print (g,g.tag_)\n",
    "print (len(allData))"
   ]
  },
  {
   "cell_type": "code",
   "execution_count": 6,
   "metadata": {},
   "outputs": [],
   "source": [
    "# def nodeAccuracy(output):\n",
    "#     ''' Calculates the accuracy of the graph nodes '''\n",
    "    \n",
    "#     total = 0\n",
    "#     correct = 0\n",
    "#     for each in output:\n",
    "#         gold,pred = each[0],each[1]\n",
    "#         #print (gold,pred,each)\n",
    "#         if gold != '-':\n",
    "#             total += 1\n",
    "#             if pred != '-/-':\n",
    "#                 if (pred == gold):\n",
    "#                     correct += 1\n",
    "#                 else:\n",
    "#                     pred = pred.split('/')\n",
    "#                     for i in pred:\n",
    "#                         if i in gold and len(gold)==1:\n",
    "#                             correct += 1\n",
    "#     accuracy = round(correct / total,2)\n",
    "#     print (total,correct,accuracy)\n"
   ]
  },
  {
   "cell_type": "code",
   "execution_count": 26,
   "metadata": {},
   "outputs": [],
   "source": [
    "def nodeAccuracy(output):\n",
    "    ''' Calculates the accuracy of the graph nodes '''\n",
    "    \n",
    "    # Penalize half if partially correct\n",
    "    total = 0.0\n",
    "    correct = 0.0\n",
    "    for each in output:\n",
    "        total += 1.0\n",
    "        gold,pred = each[0],each[1]\n",
    "        if gold == pred:\n",
    "            correct+=1.0\n",
    "        elif ((gold in pred) or (pred in gold)) and gold and pred:\n",
    "            correct+=0.5\n",
    "        else:\n",
    "            correct+=0.0\n",
    "#         print (gold,pred,correct)\n",
    "    accuracy = round(correct / total,2)\n",
    "    print (\"Total Number of Actions/Informations:\",total,\"\\nCorrect Prediction:\",correct,\"\\nAccuracy:\",accuracy,\"%\")\n",
    "            "
   ]
  },
  {
   "cell_type": "code",
   "execution_count": 27,
   "metadata": {},
   "outputs": [
    {
     "name": "stderr",
     "output_type": "stream",
     "text": [
      "100%|██████████| 34/34 [00:00<00:00, 169.78it/s]\n",
      "100%|██████████| 17/17 [00:00<00:00, 153.41it/s]\n",
      "100%|██████████| 31/31 [00:00<00:00, 178.98it/s]\n",
      "100%|██████████| 109/109 [00:00<00:00, 182.04it/s]\n",
      "100%|██████████| 53/53 [00:00<00:00, 174.66it/s]\n",
      "100%|██████████| 70/70 [00:00<00:00, 164.38it/s]\n",
      "100%|██████████| 19/19 [00:00<00:00, 154.84it/s]\n",
      "100%|██████████| 103/103 [00:00<00:00, 208.62it/s]\n",
      "100%|██████████| 23/23 [00:00<00:00, 218.51it/s]\n",
      "100%|██████████| 26/26 [00:00<00:00, 166.99it/s]\n",
      "100%|██████████| 26/26 [00:00<00:00, 162.10it/s]\n",
      "100%|██████████| 80/80 [00:00<00:00, 203.15it/s]\n",
      "100%|██████████| 24/24 [00:00<00:00, 168.51it/s]\n",
      "100%|██████████| 36/36 [00:00<00:00, 165.67it/s]"
     ]
    },
    {
     "name": "stdout",
     "output_type": "stream",
     "text": [
      "Total Number of Actions/Informations: 517.0 \n",
      "Correct Prediction: 284.5 \n",
      "Accuracy: 0.55 %\n"
     ]
    },
    {
     "name": "stderr",
     "output_type": "stream",
     "text": [
      "\n"
     ]
    }
   ],
   "source": [
    "# actionRules = ['PRP-MD-VB','PRP-RB-VB','PRP-VB',\n",
    "#                 'PRP-MD-VBG','PRP-RB-VBG','PRP-VBG',\n",
    "#                 'PRP-MD-VBN','PRP-RB-VBN','PRP-VBN',\n",
    "#                 'PRP-MD-VBP','PRP-RB-VBP','PRP-VBP',\n",
    "#                'PRP-MD-RB-VB'\n",
    "#                 #'PRP-MD-VBZ','PRP-RB-VBZ','PRP-VBZ',\n",
    "#                 'PRP-MD-VBD','PRP-RB-VBD','PRP-VBD']\n",
    "actionRules = [\"PRP-MD-VB\",\"PRP-RB-VB\",\"PRP-VB\",\"PRP-MD-RB-VB\"]\n",
    "# infoRules = ['EX-VBD','EX-VBP','EX-VBZ','VBD-IN','PRP-VBZ',\n",
    "#             'NN-VBD-VBN','NNS-VBD-VBN','NN-VBD-VBG','NNS-VBD-VBG',\n",
    "#             'NN-VBP-VBN','NNS-VBP-VBN','NN-VBP-VBG','NNS-VBP-VBG',\n",
    "#             'NN-VBZ-VBN','NNS-VBZ-VBN',\n",
    "#             'NN-MD-VB','NN-MD-RB-VB']\n",
    "\n",
    "infoRules = [\"NN-VB-NN\",\"NN-VB-VB\",\"NN-VB-RB-NN\",\"NN-RB-VB-NN\",\"NN-MD-VB\",\"NN-MD-RB-VB\",\"EX-VB\"]\n",
    "filterPos = 'PDT|DT|IN|,|:|\\.|JJ|SYM|TO|HYPH'\n",
    "output = []\n",
    "#print (allData[1])\n",
    "for eachFile in allData:\n",
    "    for docid,lineno,content,enttype,edges in tqdm(eachFile):\n",
    "#         print (docid,lineno,content,enttype,edges)\n",
    "        #input()\n",
    "        if enttype.strip()==\"-\":\n",
    "            continue\n",
    "        posTag = []\n",
    "        for word in nlp(content):\n",
    "            posTag.append(word.tag_)\n",
    "        posTagSeq = \"-\".join(posTag)\n",
    "        # Removing Adverbs(RB%, RP%), Adjective(PDT,JJ%), Conjunction &support preposition(IN), Determiner(DT), Punctuation (,:.)\n",
    "        \n",
    "        reducedPosTagSeq = [x for x in posTag if not re.search(filterPos,x) ]\n",
    "        reducedPosTagSeqMod = []\n",
    "        for x in reducedPosTagSeq:\n",
    "            if re.match(\"NN*\",x):\n",
    "                reducedPosTagSeqMod.append(\"NN\")\n",
    "            elif re.match(\"VB*\",x):\n",
    "                reducedPosTagSeqMod.append(\"VB\")\n",
    "            else:\n",
    "                reducedPosTagSeqMod.append(x)\n",
    "                \n",
    "#         print (reducedPosTagSeq)\n",
    "#         print (reducedPosTagSeqMod)\n",
    "        posTagSeqNew = \"-\".join(reducedPosTagSeqMod)\n",
    "\n",
    "#         print (\"reducedPosTagSeq:\",reducedPosTagSeq)\n",
    "#         print (posTag,posTagSeq)\n",
    "        predEnttypeAction = ''\n",
    "        for eachRule in actionRules:\n",
    "            if eachRule in posTagSeqNew:\n",
    "                predEnttypeAction = 'A'\n",
    "#                 print (\"Rule:\",eachRule)\n",
    "                break\n",
    "                \n",
    "        predEnttypeInfo = ''\n",
    "        for eachRule in infoRules:\n",
    "            if eachRule in posTagSeqNew:\n",
    "                predEnttypeInfo = 'I'\n",
    "#                 print (\"Rule:\",eachRule)\n",
    "                break\n",
    "\n",
    "        if enttype in [\"A,I\",\"I,A\",\"M\"]:\n",
    "            enttype = \"A/I\"\n",
    "        pred=\"\"\n",
    "        if predEnttypeAction and predEnttypeInfo:\n",
    "            pred = predEnttypeAction+\"/\"+predEnttypeInfo\n",
    "        else:\n",
    "            pred = predEnttypeAction+predEnttypeInfo\n",
    "            \n",
    "        output.append([enttype,pred])\n",
    "#         print (\"Gold:\",enttype, \"Pred:\",predEnttypeAction,predEnttypeInfo,\",\",pred)\n",
    "        #input()\n",
    "nodeAccuracy(output)"
   ]
  },
  {
   "cell_type": "code",
   "execution_count": null,
   "metadata": {},
   "outputs": [],
   "source": []
  },
  {
   "cell_type": "code",
   "execution_count": null,
   "metadata": {},
   "outputs": [],
   "source": []
  }
 ],
 "metadata": {
  "kernelspec": {
   "display_name": "Python 3",
   "language": "python",
   "name": "python3"
  },
  "language_info": {
   "codemirror_mode": {
    "name": "ipython",
    "version": 3
   },
   "file_extension": ".py",
   "mimetype": "text/x-python",
   "name": "python",
   "nbconvert_exporter": "python",
   "pygments_lexer": "ipython3",
   "version": "3.7.3"
  }
 },
 "nbformat": 4,
 "nbformat_minor": 2
}
