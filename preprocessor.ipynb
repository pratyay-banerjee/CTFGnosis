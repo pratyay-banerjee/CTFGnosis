{
 "cells": [
  {
   "cell_type": "code",
   "execution_count": 2,
   "metadata": {},
   "outputs": [],
   "source": [
    "from os import listdir \n",
    "import os\n",
    "import sys\n",
    "import re\n",
    "import json\n",
    "import csv\n",
    "from tqdm import tqdm_notebook as tqdm\n",
    "import jsonlines"
   ]
  },
  {
   "cell_type": "code",
   "execution_count": 3,
   "metadata": {},
   "outputs": [],
   "source": [
    "import spacy\n",
    "nlp = spacy.load('en_core_web_md')\n",
    "#doc = nlp(\"Hello how are you !\")\n"
   ]
  },
  {
   "cell_type": "code",
   "execution_count": 4,
   "metadata": {},
   "outputs": [],
   "source": [
    "def removeSentenceWithoutVerb(fileContent):\n",
    "    ''' Removes sentences from the file which do not have any verb forms '''\n",
    "    #print (fileContent)\n",
    "    fileData = []\n",
    "    for eachSentence in fileContent:\n",
    "        sent = nlp(eachSentence)\n",
    "        isVBPresent = False\n",
    "        for j in sent:\n",
    "            if j.tag_.startswith(\"VB\"): isVBPresent=True\n",
    "        if isVBPresent:\n",
    "            fileData.append(eachSentence)\n",
    "    #input()\n",
    "    return fileData"
   ]
  },
  {
   "cell_type": "code",
   "execution_count": 21,
   "metadata": {},
   "outputs": [],
   "source": [
    "def dataloader(path):\n",
    "    ''' Parses the data \n",
    "        1. Assumed sentences end with '. '\n",
    "        2. Cleans sentences - strips spaces\n",
    "        3. Remove sentences if no verb form\n",
    "    '''\n",
    "    \n",
    "    allFileContents = {}\n",
    "    files = [ f for f in listdir(path) if f]\n",
    "    #files = ['2.txt']\n",
    "    print(files)\n",
    "    for f in tqdm(files):\n",
    "        base = os.path.basename(f).split('.')[0]\n",
    "        ff = os.path.join(path,f)\n",
    "        fileHandle = open(ff,'r',encoding=\"utf-8\")\n",
    "        fw =  open(os.path.join('ann',base)+'.csv','w')\n",
    "        writer = csv.writer(fw, delimiter=',', quotechar='\"', quoting=csv.QUOTE_MINIMAL)\n",
    "        \n",
    "        data = fileHandle.read().split('\\n')\n",
    "        text = [i.replace(\"\\t\",\" \").replace('“',\"'\").replace('”',\"'\").replace(\"…\",\"...\").replace(\"’\",\"'\").strip(\"\\n\").strip(\" \").split(\". \") for i in data]\n",
    "        #print (text)\n",
    "        fileContent = []\n",
    "        for each in text:\n",
    "            for eacheach in each:\n",
    "                if eacheach and len(eacheach)>2:\n",
    "                    fileContent.append(eacheach.strip(\" \"))\n",
    "        '''if base == '13':\n",
    "            print (fileContent)\n",
    "            input()'''\n",
    "        \n",
    "        allFileContents[base] = {\"content\":removeSentenceWithoutVerb(fileContent)}\n",
    "        #print (allFileContents )\n",
    "        #input()\n",
    "        \n",
    "        with open('ctfwriteup.json','w') as fw:\n",
    "            json.dump(allFileContents, fw)\n",
    "        '''\n",
    "        with open('ctfwriteup.jsonl','w') as fw:\n",
    "            fw.write(allFileContents)'''\n",
    "        for lineno,eachline in enumerate(allFileContents[base]['content'],1):\n",
    "            writer.writerow([base,lineno,eachline])\n",
    "    return allFileContents\n",
    "        "
   ]
  },
  {
   "cell_type": "code",
   "execution_count": 22,
   "metadata": {},
   "outputs": [
    {
     "name": "stdout",
     "output_type": "stream",
     "text": [
      "['7.txt', '4.txt', '14.txt', '1.txt', '13.txt', '2.txt', '9.txt', '12.txt', '11.txt', '5.txt', '8.txt', '6.txt', '10.txt', '3.txt']\n"
     ]
    },
    {
     "data": {
      "application/vnd.jupyter.widget-view+json": {
       "model_id": "3d93f2fd5b4345a598056b9a5aa4bd13",
       "version_major": 2,
       "version_minor": 0
      },
      "text/plain": [
       "A Jupyter Widget"
      ]
     },
     "metadata": {},
     "output_type": "display_data"
    }
   ],
   "source": [
    "fileData = dataloader(\"data\")"
   ]
  },
  {
   "cell_type": "code",
   "execution_count": 94,
   "metadata": {},
   "outputs": [],
   "source": [
    "def functionExtractor(data):\n",
    "    ''' Extracts functions used '''\n",
    "    regex = '(\\w+)\\((.*)\\)'\n",
    "    allFunctions = []\n",
    "    \n",
    "    for eachData in data:\n",
    "        words = eachData.split(\" \")\n",
    "        #print (words)\n",
    "        for eachWord in words:\n",
    "            func = re.findall(regex,eachWord)\n",
    "            if(func):\n",
    "                allFunctions.append(eachWord)\n",
    "    print (set(allFunctions)\n",
    "    "
   ]
  },
  {
   "cell_type": "code",
   "execution_count": 95,
   "metadata": {},
   "outputs": [
    {
     "name": "stdout",
     "output_type": "stream",
     "text": [
      "['set().', 'set()', 'cache_set()', 'cache_set()', 'cache_set().', 'ajax_get_form()', 'cache_get()', 'drupal_process_form().', 'drupal_process_form(),', 'cache_get(),', 'system()', 'drupal_process_attached()', 'call_user_func_array(),']\n"
     ]
    }
   ],
   "source": [
    "functionExtractor(fileData['1'])"
   ]
  },
  {
   "cell_type": "code",
   "execution_count": 91,
   "metadata": {},
   "outputs": [
    {
     "data": {
      "text/plain": [
       "['drupal_process_attached']"
      ]
     },
     "execution_count": 91,
     "metadata": {},
     "output_type": "execute_result"
    }
   ],
   "source": [
    "regex = '(\\w+)\\(\\)'\n",
    "re.findall(regex,\"drupal_process_attached()\")"
   ]
  },
  {
   "cell_type": "code",
   "execution_count": null,
   "metadata": {},
   "outputs": [],
   "source": []
  }
 ],
 "metadata": {
  "kernelspec": {
   "display_name": "Python 3",
   "language": "python",
   "name": "python3"
  },
  "language_info": {
   "codemirror_mode": {
    "name": "ipython",
    "version": 3
   },
   "file_extension": ".py",
   "mimetype": "text/x-python",
   "name": "python",
   "nbconvert_exporter": "python",
   "pygments_lexer": "ipython3",
   "version": "3.6.3"
  }
 },
 "nbformat": 4,
 "nbformat_minor": 2
}
